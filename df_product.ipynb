{
 "cells": [
  {
   "cell_type": "code",
   "execution_count": 1,
   "id": "5cec9bb4",
   "metadata": {},
   "outputs": [],
   "source": [
    "import numpy as np\n",
    "import polars as pl"
   ]
  },
  {
   "cell_type": "code",
   "execution_count": 2,
   "id": "a73ad0bb",
   "metadata": {},
   "outputs": [
    {
     "name": "stdout",
     "output_type": "stream",
     "text": [
      "(8000, 14)\n"
     ]
    },
    {
     "data": {
      "text/html": [
       "<div><style>\n",
       ".dataframe > thead > tr > th,\n",
       ".dataframe > tbody > tr > td {\n",
       "  text-align: right;\n",
       "}\n",
       "</style>\n",
       "<small>shape: (5, 14)</small><table border=\"1\" class=\"dataframe\"><thead><tr><th>ordernumber</th><th>orderdate</th><th>year</th><th>month</th><th>day</th><th>customername</th><th>customer_type</th><th>warehousecode</th><th>product_code</th><th>orderquantity</th><th>unitprice</th><th>revenue</th><th>costs</th><th>profit</th></tr><tr><td>str</td><td>str</td><td>i64</td><td>i64</td><td>i64</td><td>str</td><td>str</td><td>str</td><td>str</td><td>i64</td><td>f64</td><td>f64</td><td>i64</td><td>f64</td></tr></thead><tbody><tr><td>&quot;SO - 000101&quot;</td><td>&quot;2015-08-26&quot;</td><td>2015</td><td>8</td><td>26</td><td>&quot;New Ltd&quot;</td><td>&quot;Distributor&quot;</td><td>&quot;NXH382&quot;</td><td>&quot;STK-112&quot;</td><td>5</td><td>643.5</td><td>3217.5</td><td>1430</td><td>1787.5</td></tr><tr><td>&quot;SO - 000102&quot;</td><td>&quot;2016-01-13&quot;</td><td>2016</td><td>1</td><td>13</td><td>&quot;Winthrop &quot;</td><td>&quot;Wholesale&quot;</td><td>&quot;GUT930&quot;</td><td>&quot;STK-121&quot;</td><td>5</td><td>346.48</td><td>1732.4</td><td>1220</td><td>512.4</td></tr><tr><td>&quot;SO - 000103&quot;</td><td>&quot;2015-09-19&quot;</td><td>2015</td><td>9</td><td>19</td><td>&quot;Apollo Ltd&quot;</td><td>&quot;Export&quot;</td><td>&quot;GUT930&quot;</td><td>&quot;STK-112&quot;</td><td>10</td><td>643.5</td><td>6435.0</td><td>2860</td><td>3575.0</td></tr><tr><td>&quot;SO - 000104&quot;</td><td>&quot;2015-12-10&quot;</td><td>2015</td><td>12</td><td>10</td><td>&quot;Eminence Corp&quot;</td><td>&quot;Export&quot;</td><td>&quot;AXW291&quot;</td><td>&quot;STK-150&quot;</td><td>6</td><td>217.14</td><td>1302.84</td><td>846</td><td>456.84</td></tr><tr><td>&quot;SO - 000105&quot;</td><td>&quot;2015-02-19&quot;</td><td>2015</td><td>2</td><td>19</td><td>&quot;E. Ltd&quot;</td><td>&quot;Wholesale&quot;</td><td>&quot;AXW291&quot;</td><td>&quot;STK-158&quot;</td><td>6</td><td>143.1</td><td>858.6</td><td>540</td><td>318.6</td></tr></tbody></table></div>"
      ],
      "text/plain": [
       "shape: (5, 14)\n",
       "┌─────────────┬────────────┬──────┬───────┬───┬───────────┬─────────┬───────┬────────┐\n",
       "│ ordernumber ┆ orderdate  ┆ year ┆ month ┆ … ┆ unitprice ┆ revenue ┆ costs ┆ profit │\n",
       "│ ---         ┆ ---        ┆ ---  ┆ ---   ┆   ┆ ---       ┆ ---     ┆ ---   ┆ ---    │\n",
       "│ str         ┆ str        ┆ i64  ┆ i64   ┆   ┆ f64       ┆ f64     ┆ i64   ┆ f64    │\n",
       "╞═════════════╪════════════╪══════╪═══════╪═══╪═══════════╪═════════╪═══════╪════════╡\n",
       "│ SO - 000101 ┆ 2015-08-26 ┆ 2015 ┆ 8     ┆ … ┆ 643.5     ┆ 3217.5  ┆ 1430  ┆ 1787.5 │\n",
       "│ SO - 000102 ┆ 2016-01-13 ┆ 2016 ┆ 1     ┆ … ┆ 346.48    ┆ 1732.4  ┆ 1220  ┆ 512.4  │\n",
       "│ SO - 000103 ┆ 2015-09-19 ┆ 2015 ┆ 9     ┆ … ┆ 643.5     ┆ 6435.0  ┆ 2860  ┆ 3575.0 │\n",
       "│ SO - 000104 ┆ 2015-12-10 ┆ 2015 ┆ 12    ┆ … ┆ 217.14    ┆ 1302.84 ┆ 846   ┆ 456.84 │\n",
       "│ SO - 000105 ┆ 2015-02-19 ┆ 2015 ┆ 2     ┆ … ┆ 143.1     ┆ 858.6   ┆ 540   ┆ 318.6  │\n",
       "└─────────────┴────────────┴──────┴───────┴───┴───────────┴─────────┴───────┴────────┘"
      ]
     },
     "execution_count": 2,
     "metadata": {},
     "output_type": "execute_result"
    }
   ],
   "source": [
    "df = pl.read_csv('inventory_mana_cleaned.csv')\n",
    "print(df.shape)\n",
    "df.head()"
   ]
  },
  {
   "cell_type": "code",
   "execution_count": 3,
   "id": "bf6da4cc",
   "metadata": {},
   "outputs": [],
   "source": [
    "df_prod = \\\n",
    "df.pivot(\n",
    "    values = 'orderquantity',\n",
    "    index = ['year', 'month'],\n",
    "    columns = 'product_code',\n",
    "    aggregate_function = 'sum'\n",
    ").sort(\n",
    "    ['year', 'month'], descending = False\n",
    ").fill_null(\n",
    "    0\n",
    ").select(\n",
    "    df.select(pl.col('product_code').unique()).to_series().to_list()\n",
    ")\n",
    "\n",
    "df_prod = \\\n",
    "df_prod.std(\n",
    ").select(\n",
    "    df.select(pl.col('product_code').unique()).to_series().to_list()\n",
    ").transpose(\n",
    "    include_header = True\n",
    ").rename({\n",
    "    'column': 'product_code',\n",
    "    'column_0': 'std'\n",
    "}).join(\n",
    "    df_prod.mean(\n",
    "    ).select(\n",
    "        df.select(pl.col('product_code').unique()).to_series().to_list()\n",
    "    ).transpose(\n",
    "        include_header = True\n",
    "    ).rename({\n",
    "        'column': 'product_code',\n",
    "        'column_0': 'mean'\n",
    "    }), on = 'product_code'\n",
    ").with_columns(\n",
    "    (pl.col('std')/pl.col('mean')).alias('cov')\n",
    ").with_columns(\n",
    "    pl.when(pl.col('cov') <= pl.quantile('cov', 0.25))\n",
    "    .then('X')\n",
    "    .otherwise(pl.when(pl.col('cov') > pl.quantile('cov', 0.75))\n",
    "              .then('Z')\n",
    "              .otherwise('Y')\n",
    "              ).alias('xyz')\n",
    ").join(\n",
    "    df.groupby(\n",
    "        'product_code'\n",
    "    ).agg(\n",
    "        pl.col('revenue').sum()\n",
    "    ).with_columns(\n",
    "        (pl.col('revenue')/pl.sum(df.get_column('revenue'))).alias('perc')\n",
    "    ).sort(\n",
    "        'perc', descending = False\n",
    "    ).with_columns(\n",
    "        pl.cumsum('perc').alias('perc_cumsum')\n",
    "    ).with_columns(\n",
    "        pl.when(pl.col('perc_cumsum') < 0.6)\n",
    "        .then('C')\n",
    "        .otherwise(pl.when(pl.col('perc_cumsum') >= 0.8)\n",
    "                  .then('A')\n",
    "                  .otherwise('B')\n",
    "                  ).alias('abc')\n",
    "    ), on = 'product_code'\n",
    ").with_columns(\n",
    "    (pl.col('abc') + pl.col('xyz')).alias('type')\n",
    ")"
   ]
  },
  {
   "cell_type": "raw",
   "id": "37489212",
   "metadata": {},
   "source": [
    "df_prod.write_parquet('df_prod.parquet')"
   ]
  },
  {
   "cell_type": "code",
   "execution_count": null,
   "id": "655d458d",
   "metadata": {},
   "outputs": [],
   "source": []
  }
 ],
 "metadata": {
  "kernelspec": {
   "display_name": "Python 3 (ipykernel)",
   "language": "python",
   "name": "python3"
  },
  "language_info": {
   "codemirror_mode": {
    "name": "ipython",
    "version": 3
   },
   "file_extension": ".py",
   "mimetype": "text/x-python",
   "name": "python",
   "nbconvert_exporter": "python",
   "pygments_lexer": "ipython3",
   "version": "3.9.13"
  }
 },
 "nbformat": 4,
 "nbformat_minor": 5
}
