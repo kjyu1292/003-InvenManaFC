{
 "cells": [
  {
   "cell_type": "code",
   "execution_count": 1,
   "id": "1cd7b9e2",
   "metadata": {},
   "outputs": [],
   "source": [
    "import pandas as pd\n",
    "import numpy as np\n",
    "\n",
    "import plotly.express as px\n",
    "import plotly.graph_objects as go\n",
    "\n",
    "from sklearn.metrics import mean_squared_error, mean_squared_log_error\n",
    "from statsmodels.tsa.holtwinters import SimpleExpSmoothing, ExponentialSmoothing\n",
    "from sklearn.model_selection import ParameterGrid\n",
    "\n",
    "from tqdm import tqdm\n",
    "import warnings\n",
    "warnings.filterwarnings(\"error\")"
   ]
  },
  {
   "cell_type": "code",
   "execution_count": 2,
   "id": "0f8f37f8",
   "metadata": {},
   "outputs": [
    {
     "data": {
      "text/html": [
       "<div>\n",
       "<style scoped>\n",
       "    .dataframe tbody tr th:only-of-type {\n",
       "        vertical-align: middle;\n",
       "    }\n",
       "\n",
       "    .dataframe tbody tr th {\n",
       "        vertical-align: top;\n",
       "    }\n",
       "\n",
       "    .dataframe thead th {\n",
       "        text-align: right;\n",
       "    }\n",
       "</style>\n",
       "<table border=\"1\" class=\"dataframe\">\n",
       "  <thead>\n",
       "    <tr style=\"text-align: right;\">\n",
       "      <th></th>\n",
       "      <th>ordernumber</th>\n",
       "      <th>orderdate</th>\n",
       "      <th>year</th>\n",
       "      <th>month</th>\n",
       "      <th>day</th>\n",
       "      <th>customername</th>\n",
       "      <th>customer_type</th>\n",
       "      <th>warehousecode</th>\n",
       "      <th>product_code</th>\n",
       "      <th>orderquantity</th>\n",
       "      <th>...</th>\n",
       "      <th>revenue</th>\n",
       "      <th>costs</th>\n",
       "      <th>profit</th>\n",
       "      <th>client_group</th>\n",
       "      <th>product_type</th>\n",
       "      <th>is_holiday</th>\n",
       "      <th>week_num</th>\n",
       "      <th>year_month</th>\n",
       "      <th>year_week</th>\n",
       "      <th>type</th>\n",
       "    </tr>\n",
       "  </thead>\n",
       "  <tbody>\n",
       "    <tr>\n",
       "      <th>0</th>\n",
       "      <td>SO - 000101</td>\n",
       "      <td>2015-08-26</td>\n",
       "      <td>2015</td>\n",
       "      <td>8</td>\n",
       "      <td>26</td>\n",
       "      <td>New Ltd</td>\n",
       "      <td>Distributor</td>\n",
       "      <td>NXH382</td>\n",
       "      <td>STK-112</td>\n",
       "      <td>5</td>\n",
       "      <td>...</td>\n",
       "      <td>3217.50</td>\n",
       "      <td>1430</td>\n",
       "      <td>1787.50</td>\n",
       "      <td>beta</td>\n",
       "      <td>AX</td>\n",
       "      <td>0</td>\n",
       "      <td>35</td>\n",
       "      <td>2015-08</td>\n",
       "      <td>2015-35</td>\n",
       "      <td>AX</td>\n",
       "    </tr>\n",
       "    <tr>\n",
       "      <th>1</th>\n",
       "      <td>SO - 000102</td>\n",
       "      <td>2016-01-13</td>\n",
       "      <td>2016</td>\n",
       "      <td>1</td>\n",
       "      <td>13</td>\n",
       "      <td>Winthrop</td>\n",
       "      <td>Wholesale</td>\n",
       "      <td>GUT930</td>\n",
       "      <td>STK-121</td>\n",
       "      <td>5</td>\n",
       "      <td>...</td>\n",
       "      <td>1732.40</td>\n",
       "      <td>1220</td>\n",
       "      <td>512.40</td>\n",
       "      <td>beta</td>\n",
       "      <td>CY</td>\n",
       "      <td>0</td>\n",
       "      <td>2</td>\n",
       "      <td>2016-01</td>\n",
       "      <td>2016-02</td>\n",
       "      <td>CY</td>\n",
       "    </tr>\n",
       "    <tr>\n",
       "      <th>2</th>\n",
       "      <td>SO - 000103</td>\n",
       "      <td>2015-09-19</td>\n",
       "      <td>2015</td>\n",
       "      <td>9</td>\n",
       "      <td>19</td>\n",
       "      <td>Apollo Ltd</td>\n",
       "      <td>Export</td>\n",
       "      <td>GUT930</td>\n",
       "      <td>STK-112</td>\n",
       "      <td>10</td>\n",
       "      <td>...</td>\n",
       "      <td>6435.00</td>\n",
       "      <td>2860</td>\n",
       "      <td>3575.00</td>\n",
       "      <td>gamma</td>\n",
       "      <td>AX</td>\n",
       "      <td>0</td>\n",
       "      <td>38</td>\n",
       "      <td>2015-09</td>\n",
       "      <td>2015-38</td>\n",
       "      <td>AX</td>\n",
       "    </tr>\n",
       "    <tr>\n",
       "      <th>3</th>\n",
       "      <td>SO - 000104</td>\n",
       "      <td>2015-12-10</td>\n",
       "      <td>2015</td>\n",
       "      <td>12</td>\n",
       "      <td>10</td>\n",
       "      <td>Eminence Corp</td>\n",
       "      <td>Export</td>\n",
       "      <td>AXW291</td>\n",
       "      <td>STK-150</td>\n",
       "      <td>6</td>\n",
       "      <td>...</td>\n",
       "      <td>1302.84</td>\n",
       "      <td>846</td>\n",
       "      <td>456.84</td>\n",
       "      <td>alpha</td>\n",
       "      <td>CX</td>\n",
       "      <td>0</td>\n",
       "      <td>50</td>\n",
       "      <td>2015-12</td>\n",
       "      <td>2015-50</td>\n",
       "      <td>CX</td>\n",
       "    </tr>\n",
       "    <tr>\n",
       "      <th>4</th>\n",
       "      <td>SO - 000105</td>\n",
       "      <td>2015-02-19</td>\n",
       "      <td>2015</td>\n",
       "      <td>2</td>\n",
       "      <td>19</td>\n",
       "      <td>E. Ltd</td>\n",
       "      <td>Wholesale</td>\n",
       "      <td>AXW291</td>\n",
       "      <td>STK-158</td>\n",
       "      <td>6</td>\n",
       "      <td>...</td>\n",
       "      <td>858.60</td>\n",
       "      <td>540</td>\n",
       "      <td>318.60</td>\n",
       "      <td>beta</td>\n",
       "      <td>CX</td>\n",
       "      <td>0</td>\n",
       "      <td>8</td>\n",
       "      <td>2015-02</td>\n",
       "      <td>2015-08</td>\n",
       "      <td>CX</td>\n",
       "    </tr>\n",
       "  </tbody>\n",
       "</table>\n",
       "<p>5 rows × 21 columns</p>\n",
       "</div>"
      ],
      "text/plain": [
       "   ordernumber  orderdate  year  month  day   customername customer_type  \\\n",
       "0  SO - 000101 2015-08-26  2015      8   26        New Ltd   Distributor   \n",
       "1  SO - 000102 2016-01-13  2016      1   13      Winthrop      Wholesale   \n",
       "2  SO - 000103 2015-09-19  2015      9   19     Apollo Ltd        Export   \n",
       "3  SO - 000104 2015-12-10  2015     12   10  Eminence Corp        Export   \n",
       "4  SO - 000105 2015-02-19  2015      2   19         E. Ltd     Wholesale   \n",
       "\n",
       "  warehousecode product_code  orderquantity  ...  revenue  costs   profit  \\\n",
       "0        NXH382      STK-112              5  ...  3217.50   1430  1787.50   \n",
       "1        GUT930      STK-121              5  ...  1732.40   1220   512.40   \n",
       "2        GUT930      STK-112             10  ...  6435.00   2860  3575.00   \n",
       "3        AXW291      STK-150              6  ...  1302.84    846   456.84   \n",
       "4        AXW291      STK-158              6  ...   858.60    540   318.60   \n",
       "\n",
       "   client_group product_type is_holiday  week_num  year_month year_week type  \n",
       "0          beta           AX          0        35     2015-08   2015-35   AX  \n",
       "1          beta           CY          0         2     2016-01   2016-02   CY  \n",
       "2         gamma           AX          0        38     2015-09   2015-38   AX  \n",
       "3         alpha           CX          0        50     2015-12   2015-50   CX  \n",
       "4          beta           CX          0         8     2015-02   2015-08   CX  \n",
       "\n",
       "[5 rows x 21 columns]"
      ]
     },
     "execution_count": 2,
     "metadata": {},
     "output_type": "execute_result"
    }
   ],
   "source": [
    "df = pd.read_csv('inventory_mana_cleaned.csv')\n",
    "df_prod = pd.read_parquet('df_prod.parquet')[['product_code', 'type']]\n",
    "df = df.merge(df_prod, on = 'product_code', how = 'left')\n",
    "df['orderdate'] = pd.to_datetime(df.orderdate)\n",
    "df.head()"
   ]
  },
  {
   "cell_type": "code",
   "execution_count": 3,
   "id": "a91c3c65",
   "metadata": {},
   "outputs": [],
   "source": [
    "data = df[df['type'] == 'CX'][['orderdate', 'orderquantity']].sort_values('orderdate').set_index('orderdate')\n",
    "data.index = pd.DatetimeIndex(data.index).to_period('W')\n",
    "data = data.reset_index().groupby(['orderdate'])[['orderquantity']].agg('sum')\n",
    "\n",
    "x = pd.DataFrame(data = {'dummy': 1}, index = pd.date_range(start = '2015-01-06', end = '2016-06-30'))\n",
    "x.index = pd.DatetimeIndex(x.index).to_period('W').rename('orderdate')\n",
    "x = x.reset_index().groupby(['orderdate'])[['dummy']].agg('sum').reset_index()[['orderdate']]\n",
    "data = data.merge(x, on = 'orderdate', how = 'right').fillna(0).set_index('orderdate')"
   ]
  },
  {
   "cell_type": "code",
   "execution_count": 4,
   "id": "50a148cb",
   "metadata": {},
   "outputs": [
    {
     "data": {
      "text/plain": [
       "((64, 1), (13, 1))"
      ]
     },
     "execution_count": 4,
     "metadata": {},
     "output_type": "execute_result"
    }
   ],
   "source": [
    "train = data[data.index < '2016-04-01']\n",
    "test = data[data.index > '2016-04-01']\n",
    "(train.shape, test.shape)"
   ]
  },
  {
   "cell_type": "code",
   "execution_count": 5,
   "id": "4353d56e",
   "metadata": {},
   "outputs": [
    {
     "name": "stdout",
     "output_type": "stream",
     "text": [
      "(1584, 7)\n"
     ]
    },
    {
     "data": {
      "text/html": [
       "<div>\n",
       "<style scoped>\n",
       "    .dataframe tbody tr th:only-of-type {\n",
       "        vertical-align: middle;\n",
       "    }\n",
       "\n",
       "    .dataframe tbody tr th {\n",
       "        vertical-align: top;\n",
       "    }\n",
       "\n",
       "    .dataframe thead th {\n",
       "        text-align: right;\n",
       "    }\n",
       "</style>\n",
       "<table border=\"1\" class=\"dataframe\">\n",
       "  <thead>\n",
       "    <tr style=\"text-align: right;\">\n",
       "      <th></th>\n",
       "      <th>damped_trend</th>\n",
       "      <th>remove_bias</th>\n",
       "      <th>seasonal</th>\n",
       "      <th>seasonal_periods</th>\n",
       "      <th>trend</th>\n",
       "      <th>use_boxcox</th>\n",
       "      <th>use_brute</th>\n",
       "    </tr>\n",
       "  </thead>\n",
       "  <tbody>\n",
       "    <tr>\n",
       "      <th>0</th>\n",
       "      <td>True</td>\n",
       "      <td>True</td>\n",
       "      <td>add</td>\n",
       "      <td>2</td>\n",
       "      <td>add</td>\n",
       "      <td>True</td>\n",
       "      <td>True</td>\n",
       "    </tr>\n",
       "    <tr>\n",
       "      <th>1</th>\n",
       "      <td>True</td>\n",
       "      <td>True</td>\n",
       "      <td>add</td>\n",
       "      <td>2</td>\n",
       "      <td>add</td>\n",
       "      <td>True</td>\n",
       "      <td>False</td>\n",
       "    </tr>\n",
       "    <tr>\n",
       "      <th>2</th>\n",
       "      <td>True</td>\n",
       "      <td>True</td>\n",
       "      <td>add</td>\n",
       "      <td>2</td>\n",
       "      <td>add</td>\n",
       "      <td>False</td>\n",
       "      <td>True</td>\n",
       "    </tr>\n",
       "    <tr>\n",
       "      <th>3</th>\n",
       "      <td>True</td>\n",
       "      <td>True</td>\n",
       "      <td>add</td>\n",
       "      <td>2</td>\n",
       "      <td>add</td>\n",
       "      <td>False</td>\n",
       "      <td>False</td>\n",
       "    </tr>\n",
       "    <tr>\n",
       "      <th>4</th>\n",
       "      <td>True</td>\n",
       "      <td>True</td>\n",
       "      <td>add</td>\n",
       "      <td>2</td>\n",
       "      <td>mul</td>\n",
       "      <td>True</td>\n",
       "      <td>True</td>\n",
       "    </tr>\n",
       "  </tbody>\n",
       "</table>\n",
       "</div>"
      ],
      "text/plain": [
       "   damped_trend  remove_bias seasonal  seasonal_periods trend  use_boxcox  \\\n",
       "0          True         True      add                 2   add        True   \n",
       "1          True         True      add                 2   add        True   \n",
       "2          True         True      add                 2   add       False   \n",
       "3          True         True      add                 2   add       False   \n",
       "4          True         True      add                 2   mul        True   \n",
       "\n",
       "   use_brute  \n",
       "0       True  \n",
       "1      False  \n",
       "2       True  \n",
       "3      False  \n",
       "4       True  "
      ]
     },
     "execution_count": 5,
     "metadata": {},
     "output_type": "execute_result"
    }
   ],
   "source": [
    "param_grid = \\\n",
    "{\n",
    "    'trend': ['add', 'mul', None],\n",
    "    'damped_trend': [True, False],\n",
    "    'seasonal': ['add', 'mul', None],\n",
    "    'seasonal_periods': [x for x in range (2, 13)],\n",
    "    'use_boxcox': [True, False],\n",
    "    'remove_bias': [True, False],\n",
    "    'use_brute': [True, False]\n",
    "}\n",
    "param_list = list(ParameterGrid(param_grid))\n",
    "hyper_para = pd.DataFrame(data = param_list)\n",
    "print(hyper_para.shape)\n",
    "hyper_para.head()"
   ]
  },
  {
   "cell_type": "code",
   "execution_count": 6,
   "id": "4faefc40",
   "metadata": {},
   "outputs": [
    {
     "name": "stderr",
     "output_type": "stream",
     "text": [
      "100%|██████████| 1584/1584 [00:33<00:00, 47.71it/s] \n"
     ]
    },
    {
     "data": {
      "text/plain": [
       "damped_trend                                                      False\n",
       "remove_bias                                                        True\n",
       "seasonal                                                            add\n",
       "seasonal_periods                                                     10\n",
       "trend                                                               mul\n",
       "use_boxcox                                                        False\n",
       "use_brute                                                          True\n",
       "smoothing_level                                                0.040357\n",
       "smoothing_trend                                                0.040357\n",
       "smoothing_seasonal                                               0.0001\n",
       "damping_trend                                                       NaN\n",
       "initial_level                                                182.813333\n",
       "initial_trend                                                  1.000917\n",
       "initial_seasons       [17.761250000000004, 14.011249999999997, -4.75...\n",
       "lamda                                                               NaN\n",
       "rmse_train                                                    42.498702\n",
       "rmse_test                                                     31.930598\n",
       "msle_train                                                     0.110791\n",
       "msle_test                                                      0.052162\n",
       "Name: 894, dtype: object"
      ]
     },
     "execution_count": 6,
     "metadata": {},
     "output_type": "execute_result"
    }
   ],
   "source": [
    "rmse_train = []\n",
    "msle_train = []\n",
    "rmse_test = []\n",
    "msle_test = []\n",
    "\n",
    "smoothing_level = []\n",
    "smoothing_trend = []\n",
    "smoothing_seasonal = []\n",
    "damping_trend = []\n",
    "initial_level = []\n",
    "initial_trend = []\n",
    "initial_seasons = []\n",
    "lamda = []\n",
    "\n",
    "for params in tqdm(param_list, total = len(param_list)):\n",
    "    try:\n",
    "        # Holt-Winter Exponential Smoothing\n",
    "        htes = ExponentialSmoothing(train,\n",
    "                                    trend = params['trend'], \n",
    "                                    damped_trend = params['damped_trend'], \n",
    "                                    seasonal = params['seasonal'], \n",
    "                                    seasonal_periods = params['seasonal_periods'],\n",
    "                                    use_boxcox = params['use_boxcox']) \\\n",
    "            .fit(optimized = True, use_brute = params['use_brute'])\n",
    "        \n",
    "        # Metrics on Train\n",
    "        rmse_train.append(\n",
    "            np.sqrt(mean_squared_error(train.values, htes.fittedvalues.values))\n",
    "        )\n",
    "        msle_train.append(\n",
    "            mean_squared_log_error(train.values, htes.fittedvalues.values)\n",
    "        )\n",
    "        \n",
    "        # Metrics on Test\n",
    "        rmse_test.append(\n",
    "            np.sqrt(mean_squared_error(test.values, htes.forecast(test.shape[0]).values))\n",
    "        )\n",
    "        msle_test.append(\n",
    "            mean_squared_log_error(test.values, htes.forecast(test.shape[0]).values)\n",
    "        )\n",
    "        \n",
    "        # Hyperpara\n",
    "        smoothing_level.append(htes.params['smoothing_level'])\n",
    "        smoothing_trend.append(htes.params['smoothing_trend'])\n",
    "        smoothing_seasonal.append(htes.params['smoothing_seasonal'])\n",
    "        damping_trend.append(htes.params['damping_trend'])\n",
    "        initial_level.append(htes.params['initial_level'])\n",
    "        initial_trend.append(htes.params['initial_trend'])\n",
    "        initial_seasons.append(htes.params['initial_seasons'])\n",
    "        lamda.append(htes.params['lamda'])\n",
    "    except:\n",
    "        rmse_train.append(np.nan)\n",
    "        msle_train.append(np.nan)\n",
    "        rmse_test.append(np.nan)\n",
    "        msle_test.append(np.nan)\n",
    "        smoothing_level.append(np.nan)\n",
    "        smoothing_trend.append(np.nan)\n",
    "        smoothing_seasonal.append(np.nan)\n",
    "        damping_trend.append(np.nan)\n",
    "        initial_level.append(np.nan)\n",
    "        initial_trend.append(np.nan)\n",
    "        initial_seasons.append(np.nan)\n",
    "        lamda.append(np.nan)\n",
    "        breakpoint()\n",
    "\n",
    "hyper_para['smoothing_level'] = smoothing_level\n",
    "hyper_para['smoothing_trend'] = smoothing_trend\n",
    "hyper_para['smoothing_seasonal'] = smoothing_seasonal\n",
    "hyper_para['damping_trend'] = damping_trend\n",
    "hyper_para['initial_level'] = initial_level\n",
    "hyper_para['initial_trend'] = initial_trend\n",
    "hyper_para['initial_seasons'] = initial_seasons\n",
    "hyper_para['lamda'] = lamda\n",
    "hyper_para['rmse_train'] = rmse_train\n",
    "hyper_para['rmse_test'] = rmse_test\n",
    "hyper_para['msle_train'] = msle_train\n",
    "hyper_para['msle_test'] = msle_test\n",
    "# hyper_para.to_csv('CX_param_config.csv')\n",
    "hyper_para = hyper_para[~(hyper_para.rmse_test == np.nan)].sort_values(by = ['rmse_test', 'msle_test'], ascending = True).head(20)\n",
    "hyper_para.iloc[0, :]"
   ]
  },
  {
   "cell_type": "code",
   "execution_count": 8,
   "id": "35aaf5ca",
   "metadata": {},
   "outputs": [],
   "source": [
    "htes = \\\n",
    "       ExponentialSmoothing(train,\n",
    "                            trend = hyper_para.iloc[0, :]['trend'], \n",
    "                            damped_trend = hyper_para.iloc[0, :]['damped_trend'], \n",
    "                            seasonal = hyper_para.iloc[0, :]['seasonal'], \n",
    "                            seasonal_periods = hyper_para.iloc[0, :]['seasonal_periods'], \n",
    "                            initialization_method = 'known',\n",
    "                            initial_level = hyper_para.iloc[0, :]['initial_level'], \n",
    "                            initial_trend = hyper_para.iloc[0, :]['initial_trend'], \n",
    "                            initial_seasonal = hyper_para.iloc[0, :]['initial_seasons'],\n",
    "                            use_boxcox = False) \\\n",
    "    .fit(use_brute = hyper_para.iloc[0, :]['use_brute'])"
   ]
  },
  {
   "cell_type": "code",
   "execution_count": 20,
   "id": "0f65fab0",
   "metadata": {},
   "outputs": [
    {
     "data": {
      "application/vnd.plotly.v1+json": {
       "config": {
        "plotlyServerURL": "https://plot.ly"
       },
       "data": [
        {
         "mode": "lines",
         "name": "y",
         "type": "scatter",
         "x": [
          "2015-01-11",
          "2015-01-18",
          "2015-01-25",
          "2015-02-01",
          "2015-02-08",
          "2015-02-15",
          "2015-02-22",
          "2015-03-01",
          "2015-03-08",
          "2015-03-15",
          "2015-03-22",
          "2015-03-29",
          "2015-04-05",
          "2015-04-12",
          "2015-04-19",
          "2015-04-26",
          "2015-05-03",
          "2015-05-10",
          "2015-05-17",
          "2015-05-24",
          "2015-05-31",
          "2015-06-07",
          "2015-06-14",
          "2015-06-21",
          "2015-06-28",
          "2015-07-05",
          "2015-07-12",
          "2015-07-19",
          "2015-07-26",
          "2015-08-02",
          "2015-08-09",
          "2015-08-16",
          "2015-08-23",
          "2015-08-30",
          "2015-09-06",
          "2015-09-13",
          "2015-09-20",
          "2015-09-27",
          "2015-10-04",
          "2015-10-11",
          "2015-10-18",
          "2015-10-25",
          "2015-11-01",
          "2015-11-08",
          "2015-11-15",
          "2015-11-22",
          "2015-11-29",
          "2015-12-06",
          "2015-12-13",
          "2015-12-20",
          "2015-12-27",
          "2016-01-03",
          "2016-01-10",
          "2016-01-17",
          "2016-01-24",
          "2016-01-31",
          "2016-02-07",
          "2016-02-14",
          "2016-02-21",
          "2016-02-28",
          "2016-03-06",
          "2016-03-13",
          "2016-03-20",
          "2016-03-27",
          "2016-04-03",
          "2016-04-10",
          "2016-04-17",
          "2016-04-24",
          "2016-05-01",
          "2016-05-08",
          "2016-05-15",
          "2016-05-22",
          "2016-05-29",
          "2016-06-05",
          "2016-06-12",
          "2016-06-19",
          "2016-06-26",
          "2016-07-03"
         ],
         "y": [
          132,
          66,
          192,
          209,
          198,
          157,
          163,
          200,
          159,
          227,
          196,
          192,
          177,
          191,
          193,
          171,
          153,
          195,
          120,
          156,
          176,
          168,
          173,
          199,
          247,
          222,
          28,
          204,
          162,
          178,
          247,
          137,
          151,
          197,
          113,
          207,
          112,
          215,
          107,
          137,
          140,
          247,
          167,
          139,
          167,
          155,
          165,
          179,
          178,
          125,
          119,
          194,
          189,
          97,
          82,
          153,
          191,
          178,
          171,
          180,
          117,
          207,
          158,
          195,
          123,
          168,
          138,
          119,
          159,
          112,
          191,
          184,
          158,
          218,
          168,
          127,
          217,
          57
         ]
        },
        {
         "mode": "lines",
         "name": "fitted_train",
         "type": "scatter",
         "x": [
          "2015-01-11",
          "2015-01-18",
          "2015-01-25",
          "2015-02-01",
          "2015-02-08",
          "2015-02-15",
          "2015-02-22",
          "2015-03-01",
          "2015-03-08",
          "2015-03-15",
          "2015-03-22",
          "2015-03-29",
          "2015-04-05",
          "2015-04-12",
          "2015-04-19",
          "2015-04-26",
          "2015-05-03",
          "2015-05-10",
          "2015-05-17",
          "2015-05-24",
          "2015-05-31",
          "2015-06-07",
          "2015-06-14",
          "2015-06-21",
          "2015-06-28",
          "2015-07-05",
          "2015-07-12",
          "2015-07-19",
          "2015-07-26",
          "2015-08-02",
          "2015-08-09",
          "2015-08-16",
          "2015-08-23",
          "2015-08-30",
          "2015-09-06",
          "2015-09-13",
          "2015-09-20",
          "2015-09-27",
          "2015-10-04",
          "2015-10-11",
          "2015-10-18",
          "2015-10-25",
          "2015-11-01",
          "2015-11-08",
          "2015-11-15",
          "2015-11-22",
          "2015-11-29",
          "2015-12-06",
          "2015-12-13",
          "2015-12-20",
          "2015-12-27",
          "2016-01-03",
          "2016-01-10",
          "2016-01-17",
          "2016-01-24",
          "2016-01-31",
          "2016-02-07",
          "2016-02-14",
          "2016-02-21",
          "2016-02-28",
          "2016-03-06",
          "2016-03-13",
          "2016-03-20",
          "2016-03-27"
         ],
         "y": [
          200.74215909090896,
          194.27274443084056,
          170.1838074955806,
          185.47458669047444,
          185.88479849389984,
          195.71662581073744,
          116.42256724060537,
          205.80866020273552,
          140.2087228902593,
          179.70708475028118,
          197.32642195819338,
          193.56988290825095,
          174.80942063320947,
          189.4769914087392,
          189.13132581063533,
          198.7452576183152,
          120.0391614568443,
          208.98594209276555,
          143.160370509508,
          181.0021590207107,
          195.61447600277324,
          191.00582042081174,
          171.23224347547045,
          185.7335700924205,
          185.7318628741297,
          197.62267127988446,
          121.0750935442735,
          204.77559173365967,
          139.34880175901543,
          178.9802410773387,
          194.542547579049,
          192.9396858738346,
          171.883474242363,
          185.4793567608316,
          185.41673250616512,
          191.69853696465606,
          114.5472092742455,
          201.83059994611705,
          136.91150458878107,
          174.27796861037268,
          188.18272770754794,
          182.14931004899904,
          165.80630007208808,
          180.16706382789292,
          177.75785117734202,
          186.4234486079763,
          107.1988384970825,
          196.82852189444847,
          130.51481382405186,
          170.98731728006567,
          184.50955202078694,
          177.73253832040416,
          159.29006437881398,
          174.7096723577961,
          170.68732815285588,
          175.95025754080598,
          96.83701898215729,
          187.74044286542755,
          121.58744112608028,
          161.95765279808654,
          177.9913609341353,
          171.34270538551164,
          153.65169369649942,
          167.9653872603041
         ]
        },
        {
         "mode": "lines",
         "name": "forecasted_test",
         "type": "scatter",
         "x": [
          "2016-04-03",
          "2016-04-10",
          "2016-04-17",
          "2016-04-24",
          "2016-05-01",
          "2016-05-08",
          "2016-05-15",
          "2016-05-22",
          "2016-05-29",
          "2016-06-05",
          "2016-06-12",
          "2016-06-19",
          "2016-06-26"
         ],
         "y": [
          168.25759566276446,
          177.32586590176746,
          99.4026924450973,
          186.6039267717088,
          120.97246489747593,
          159.39175468143046,
          174.70785495231726,
          170.64093520318812,
          151.5634305614587,
          165.7499796783912,
          164.95807666285745,
          174.0332606947485,
          96.116986543845
         ]
        }
       ],
       "layout": {
        "template": {
         "data": {
          "bar": [
           {
            "error_x": {
             "color": "#2a3f5f"
            },
            "error_y": {
             "color": "#2a3f5f"
            },
            "marker": {
             "line": {
              "color": "#E5ECF6",
              "width": 0.5
             },
             "pattern": {
              "fillmode": "overlay",
              "size": 10,
              "solidity": 0.2
             }
            },
            "type": "bar"
           }
          ],
          "barpolar": [
           {
            "marker": {
             "line": {
              "color": "#E5ECF6",
              "width": 0.5
             },
             "pattern": {
              "fillmode": "overlay",
              "size": 10,
              "solidity": 0.2
             }
            },
            "type": "barpolar"
           }
          ],
          "carpet": [
           {
            "aaxis": {
             "endlinecolor": "#2a3f5f",
             "gridcolor": "white",
             "linecolor": "white",
             "minorgridcolor": "white",
             "startlinecolor": "#2a3f5f"
            },
            "baxis": {
             "endlinecolor": "#2a3f5f",
             "gridcolor": "white",
             "linecolor": "white",
             "minorgridcolor": "white",
             "startlinecolor": "#2a3f5f"
            },
            "type": "carpet"
           }
          ],
          "choropleth": [
           {
            "colorbar": {
             "outlinewidth": 0,
             "ticks": ""
            },
            "type": "choropleth"
           }
          ],
          "contour": [
           {
            "colorbar": {
             "outlinewidth": 0,
             "ticks": ""
            },
            "colorscale": [
             [
              0,
              "#0d0887"
             ],
             [
              0.1111111111111111,
              "#46039f"
             ],
             [
              0.2222222222222222,
              "#7201a8"
             ],
             [
              0.3333333333333333,
              "#9c179e"
             ],
             [
              0.4444444444444444,
              "#bd3786"
             ],
             [
              0.5555555555555556,
              "#d8576b"
             ],
             [
              0.6666666666666666,
              "#ed7953"
             ],
             [
              0.7777777777777778,
              "#fb9f3a"
             ],
             [
              0.8888888888888888,
              "#fdca26"
             ],
             [
              1,
              "#f0f921"
             ]
            ],
            "type": "contour"
           }
          ],
          "contourcarpet": [
           {
            "colorbar": {
             "outlinewidth": 0,
             "ticks": ""
            },
            "type": "contourcarpet"
           }
          ],
          "heatmap": [
           {
            "colorbar": {
             "outlinewidth": 0,
             "ticks": ""
            },
            "colorscale": [
             [
              0,
              "#0d0887"
             ],
             [
              0.1111111111111111,
              "#46039f"
             ],
             [
              0.2222222222222222,
              "#7201a8"
             ],
             [
              0.3333333333333333,
              "#9c179e"
             ],
             [
              0.4444444444444444,
              "#bd3786"
             ],
             [
              0.5555555555555556,
              "#d8576b"
             ],
             [
              0.6666666666666666,
              "#ed7953"
             ],
             [
              0.7777777777777778,
              "#fb9f3a"
             ],
             [
              0.8888888888888888,
              "#fdca26"
             ],
             [
              1,
              "#f0f921"
             ]
            ],
            "type": "heatmap"
           }
          ],
          "heatmapgl": [
           {
            "colorbar": {
             "outlinewidth": 0,
             "ticks": ""
            },
            "colorscale": [
             [
              0,
              "#0d0887"
             ],
             [
              0.1111111111111111,
              "#46039f"
             ],
             [
              0.2222222222222222,
              "#7201a8"
             ],
             [
              0.3333333333333333,
              "#9c179e"
             ],
             [
              0.4444444444444444,
              "#bd3786"
             ],
             [
              0.5555555555555556,
              "#d8576b"
             ],
             [
              0.6666666666666666,
              "#ed7953"
             ],
             [
              0.7777777777777778,
              "#fb9f3a"
             ],
             [
              0.8888888888888888,
              "#fdca26"
             ],
             [
              1,
              "#f0f921"
             ]
            ],
            "type": "heatmapgl"
           }
          ],
          "histogram": [
           {
            "marker": {
             "pattern": {
              "fillmode": "overlay",
              "size": 10,
              "solidity": 0.2
             }
            },
            "type": "histogram"
           }
          ],
          "histogram2d": [
           {
            "colorbar": {
             "outlinewidth": 0,
             "ticks": ""
            },
            "colorscale": [
             [
              0,
              "#0d0887"
             ],
             [
              0.1111111111111111,
              "#46039f"
             ],
             [
              0.2222222222222222,
              "#7201a8"
             ],
             [
              0.3333333333333333,
              "#9c179e"
             ],
             [
              0.4444444444444444,
              "#bd3786"
             ],
             [
              0.5555555555555556,
              "#d8576b"
             ],
             [
              0.6666666666666666,
              "#ed7953"
             ],
             [
              0.7777777777777778,
              "#fb9f3a"
             ],
             [
              0.8888888888888888,
              "#fdca26"
             ],
             [
              1,
              "#f0f921"
             ]
            ],
            "type": "histogram2d"
           }
          ],
          "histogram2dcontour": [
           {
            "colorbar": {
             "outlinewidth": 0,
             "ticks": ""
            },
            "colorscale": [
             [
              0,
              "#0d0887"
             ],
             [
              0.1111111111111111,
              "#46039f"
             ],
             [
              0.2222222222222222,
              "#7201a8"
             ],
             [
              0.3333333333333333,
              "#9c179e"
             ],
             [
              0.4444444444444444,
              "#bd3786"
             ],
             [
              0.5555555555555556,
              "#d8576b"
             ],
             [
              0.6666666666666666,
              "#ed7953"
             ],
             [
              0.7777777777777778,
              "#fb9f3a"
             ],
             [
              0.8888888888888888,
              "#fdca26"
             ],
             [
              1,
              "#f0f921"
             ]
            ],
            "type": "histogram2dcontour"
           }
          ],
          "mesh3d": [
           {
            "colorbar": {
             "outlinewidth": 0,
             "ticks": ""
            },
            "type": "mesh3d"
           }
          ],
          "parcoords": [
           {
            "line": {
             "colorbar": {
              "outlinewidth": 0,
              "ticks": ""
             }
            },
            "type": "parcoords"
           }
          ],
          "pie": [
           {
            "automargin": true,
            "type": "pie"
           }
          ],
          "scatter": [
           {
            "fillpattern": {
             "fillmode": "overlay",
             "size": 10,
             "solidity": 0.2
            },
            "type": "scatter"
           }
          ],
          "scatter3d": [
           {
            "line": {
             "colorbar": {
              "outlinewidth": 0,
              "ticks": ""
             }
            },
            "marker": {
             "colorbar": {
              "outlinewidth": 0,
              "ticks": ""
             }
            },
            "type": "scatter3d"
           }
          ],
          "scattercarpet": [
           {
            "marker": {
             "colorbar": {
              "outlinewidth": 0,
              "ticks": ""
             }
            },
            "type": "scattercarpet"
           }
          ],
          "scattergeo": [
           {
            "marker": {
             "colorbar": {
              "outlinewidth": 0,
              "ticks": ""
             }
            },
            "type": "scattergeo"
           }
          ],
          "scattergl": [
           {
            "marker": {
             "colorbar": {
              "outlinewidth": 0,
              "ticks": ""
             }
            },
            "type": "scattergl"
           }
          ],
          "scattermapbox": [
           {
            "marker": {
             "colorbar": {
              "outlinewidth": 0,
              "ticks": ""
             }
            },
            "type": "scattermapbox"
           }
          ],
          "scatterpolar": [
           {
            "marker": {
             "colorbar": {
              "outlinewidth": 0,
              "ticks": ""
             }
            },
            "type": "scatterpolar"
           }
          ],
          "scatterpolargl": [
           {
            "marker": {
             "colorbar": {
              "outlinewidth": 0,
              "ticks": ""
             }
            },
            "type": "scatterpolargl"
           }
          ],
          "scatterternary": [
           {
            "marker": {
             "colorbar": {
              "outlinewidth": 0,
              "ticks": ""
             }
            },
            "type": "scatterternary"
           }
          ],
          "surface": [
           {
            "colorbar": {
             "outlinewidth": 0,
             "ticks": ""
            },
            "colorscale": [
             [
              0,
              "#0d0887"
             ],
             [
              0.1111111111111111,
              "#46039f"
             ],
             [
              0.2222222222222222,
              "#7201a8"
             ],
             [
              0.3333333333333333,
              "#9c179e"
             ],
             [
              0.4444444444444444,
              "#bd3786"
             ],
             [
              0.5555555555555556,
              "#d8576b"
             ],
             [
              0.6666666666666666,
              "#ed7953"
             ],
             [
              0.7777777777777778,
              "#fb9f3a"
             ],
             [
              0.8888888888888888,
              "#fdca26"
             ],
             [
              1,
              "#f0f921"
             ]
            ],
            "type": "surface"
           }
          ],
          "table": [
           {
            "cells": {
             "fill": {
              "color": "#EBF0F8"
             },
             "line": {
              "color": "white"
             }
            },
            "header": {
             "fill": {
              "color": "#C8D4E3"
             },
             "line": {
              "color": "white"
             }
            },
            "type": "table"
           }
          ]
         },
         "layout": {
          "annotationdefaults": {
           "arrowcolor": "#2a3f5f",
           "arrowhead": 0,
           "arrowwidth": 1
          },
          "autotypenumbers": "strict",
          "coloraxis": {
           "colorbar": {
            "outlinewidth": 0,
            "ticks": ""
           }
          },
          "colorscale": {
           "diverging": [
            [
             0,
             "#8e0152"
            ],
            [
             0.1,
             "#c51b7d"
            ],
            [
             0.2,
             "#de77ae"
            ],
            [
             0.3,
             "#f1b6da"
            ],
            [
             0.4,
             "#fde0ef"
            ],
            [
             0.5,
             "#f7f7f7"
            ],
            [
             0.6,
             "#e6f5d0"
            ],
            [
             0.7,
             "#b8e186"
            ],
            [
             0.8,
             "#7fbc41"
            ],
            [
             0.9,
             "#4d9221"
            ],
            [
             1,
             "#276419"
            ]
           ],
           "sequential": [
            [
             0,
             "#0d0887"
            ],
            [
             0.1111111111111111,
             "#46039f"
            ],
            [
             0.2222222222222222,
             "#7201a8"
            ],
            [
             0.3333333333333333,
             "#9c179e"
            ],
            [
             0.4444444444444444,
             "#bd3786"
            ],
            [
             0.5555555555555556,
             "#d8576b"
            ],
            [
             0.6666666666666666,
             "#ed7953"
            ],
            [
             0.7777777777777778,
             "#fb9f3a"
            ],
            [
             0.8888888888888888,
             "#fdca26"
            ],
            [
             1,
             "#f0f921"
            ]
           ],
           "sequentialminus": [
            [
             0,
             "#0d0887"
            ],
            [
             0.1111111111111111,
             "#46039f"
            ],
            [
             0.2222222222222222,
             "#7201a8"
            ],
            [
             0.3333333333333333,
             "#9c179e"
            ],
            [
             0.4444444444444444,
             "#bd3786"
            ],
            [
             0.5555555555555556,
             "#d8576b"
            ],
            [
             0.6666666666666666,
             "#ed7953"
            ],
            [
             0.7777777777777778,
             "#fb9f3a"
            ],
            [
             0.8888888888888888,
             "#fdca26"
            ],
            [
             1,
             "#f0f921"
            ]
           ]
          },
          "colorway": [
           "#636efa",
           "#EF553B",
           "#00cc96",
           "#ab63fa",
           "#FFA15A",
           "#19d3f3",
           "#FF6692",
           "#B6E880",
           "#FF97FF",
           "#FECB52"
          ],
          "font": {
           "color": "#2a3f5f"
          },
          "geo": {
           "bgcolor": "white",
           "lakecolor": "white",
           "landcolor": "#E5ECF6",
           "showlakes": true,
           "showland": true,
           "subunitcolor": "white"
          },
          "hoverlabel": {
           "align": "left"
          },
          "hovermode": "closest",
          "mapbox": {
           "style": "light"
          },
          "paper_bgcolor": "white",
          "plot_bgcolor": "#E5ECF6",
          "polar": {
           "angularaxis": {
            "gridcolor": "white",
            "linecolor": "white",
            "ticks": ""
           },
           "bgcolor": "#E5ECF6",
           "radialaxis": {
            "gridcolor": "white",
            "linecolor": "white",
            "ticks": ""
           }
          },
          "scene": {
           "xaxis": {
            "backgroundcolor": "#E5ECF6",
            "gridcolor": "white",
            "gridwidth": 2,
            "linecolor": "white",
            "showbackground": true,
            "ticks": "",
            "zerolinecolor": "white"
           },
           "yaxis": {
            "backgroundcolor": "#E5ECF6",
            "gridcolor": "white",
            "gridwidth": 2,
            "linecolor": "white",
            "showbackground": true,
            "ticks": "",
            "zerolinecolor": "white"
           },
           "zaxis": {
            "backgroundcolor": "#E5ECF6",
            "gridcolor": "white",
            "gridwidth": 2,
            "linecolor": "white",
            "showbackground": true,
            "ticks": "",
            "zerolinecolor": "white"
           }
          },
          "shapedefaults": {
           "line": {
            "color": "#2a3f5f"
           }
          },
          "ternary": {
           "aaxis": {
            "gridcolor": "white",
            "linecolor": "white",
            "ticks": ""
           },
           "baxis": {
            "gridcolor": "white",
            "linecolor": "white",
            "ticks": ""
           },
           "bgcolor": "#E5ECF6",
           "caxis": {
            "gridcolor": "white",
            "linecolor": "white",
            "ticks": ""
           }
          },
          "title": {
           "x": 0.05
          },
          "xaxis": {
           "automargin": true,
           "gridcolor": "white",
           "linecolor": "white",
           "ticks": "",
           "title": {
            "standoff": 15
           },
           "zerolinecolor": "white",
           "zerolinewidth": 2
          },
          "yaxis": {
           "automargin": true,
           "gridcolor": "white",
           "linecolor": "white",
           "ticks": "",
           "title": {
            "standoff": 15
           },
           "zerolinecolor": "white",
           "zerolinewidth": 2
          }
         }
        },
        "title": {
         "text": "Weekly forecast on train and test dataset of CX product group"
        },
        "xaxis": {
         "title": {
          "text": "timeline"
         },
         "type": "category"
        },
        "yaxis": {
         "title": {
          "text": "orderquantity"
         }
        }
       }
      },
      "text/html": [
       "<div>                            <div id=\"ef74a655-e9ea-465a-85c6-bdba3ae21350\" class=\"plotly-graph-div\" style=\"height:525px; width:100%;\"></div>            <script type=\"text/javascript\">                require([\"plotly\"], function(Plotly) {                    window.PLOTLYENV=window.PLOTLYENV || {};                                    if (document.getElementById(\"ef74a655-e9ea-465a-85c6-bdba3ae21350\")) {                    Plotly.newPlot(                        \"ef74a655-e9ea-465a-85c6-bdba3ae21350\",                        [{\"mode\":\"lines\",\"name\":\"y\",\"x\":[\"2015-01-11\",\"2015-01-18\",\"2015-01-25\",\"2015-02-01\",\"2015-02-08\",\"2015-02-15\",\"2015-02-22\",\"2015-03-01\",\"2015-03-08\",\"2015-03-15\",\"2015-03-22\",\"2015-03-29\",\"2015-04-05\",\"2015-04-12\",\"2015-04-19\",\"2015-04-26\",\"2015-05-03\",\"2015-05-10\",\"2015-05-17\",\"2015-05-24\",\"2015-05-31\",\"2015-06-07\",\"2015-06-14\",\"2015-06-21\",\"2015-06-28\",\"2015-07-05\",\"2015-07-12\",\"2015-07-19\",\"2015-07-26\",\"2015-08-02\",\"2015-08-09\",\"2015-08-16\",\"2015-08-23\",\"2015-08-30\",\"2015-09-06\",\"2015-09-13\",\"2015-09-20\",\"2015-09-27\",\"2015-10-04\",\"2015-10-11\",\"2015-10-18\",\"2015-10-25\",\"2015-11-01\",\"2015-11-08\",\"2015-11-15\",\"2015-11-22\",\"2015-11-29\",\"2015-12-06\",\"2015-12-13\",\"2015-12-20\",\"2015-12-27\",\"2016-01-03\",\"2016-01-10\",\"2016-01-17\",\"2016-01-24\",\"2016-01-31\",\"2016-02-07\",\"2016-02-14\",\"2016-02-21\",\"2016-02-28\",\"2016-03-06\",\"2016-03-13\",\"2016-03-20\",\"2016-03-27\",\"2016-04-03\",\"2016-04-10\",\"2016-04-17\",\"2016-04-24\",\"2016-05-01\",\"2016-05-08\",\"2016-05-15\",\"2016-05-22\",\"2016-05-29\",\"2016-06-05\",\"2016-06-12\",\"2016-06-19\",\"2016-06-26\",\"2016-07-03\"],\"y\":[132,66,192,209,198,157,163,200,159,227,196,192,177,191,193,171,153,195,120,156,176,168,173,199,247,222,28,204,162,178,247,137,151,197,113,207,112,215,107,137,140,247,167,139,167,155,165,179,178,125,119,194,189,97,82,153,191,178,171,180,117,207,158,195,123,168,138,119,159,112,191,184,158,218,168,127,217,57],\"type\":\"scatter\"},{\"mode\":\"lines\",\"name\":\"fitted_train\",\"x\":[\"2015-01-11\",\"2015-01-18\",\"2015-01-25\",\"2015-02-01\",\"2015-02-08\",\"2015-02-15\",\"2015-02-22\",\"2015-03-01\",\"2015-03-08\",\"2015-03-15\",\"2015-03-22\",\"2015-03-29\",\"2015-04-05\",\"2015-04-12\",\"2015-04-19\",\"2015-04-26\",\"2015-05-03\",\"2015-05-10\",\"2015-05-17\",\"2015-05-24\",\"2015-05-31\",\"2015-06-07\",\"2015-06-14\",\"2015-06-21\",\"2015-06-28\",\"2015-07-05\",\"2015-07-12\",\"2015-07-19\",\"2015-07-26\",\"2015-08-02\",\"2015-08-09\",\"2015-08-16\",\"2015-08-23\",\"2015-08-30\",\"2015-09-06\",\"2015-09-13\",\"2015-09-20\",\"2015-09-27\",\"2015-10-04\",\"2015-10-11\",\"2015-10-18\",\"2015-10-25\",\"2015-11-01\",\"2015-11-08\",\"2015-11-15\",\"2015-11-22\",\"2015-11-29\",\"2015-12-06\",\"2015-12-13\",\"2015-12-20\",\"2015-12-27\",\"2016-01-03\",\"2016-01-10\",\"2016-01-17\",\"2016-01-24\",\"2016-01-31\",\"2016-02-07\",\"2016-02-14\",\"2016-02-21\",\"2016-02-28\",\"2016-03-06\",\"2016-03-13\",\"2016-03-20\",\"2016-03-27\"],\"y\":[200.74215909090896,194.27274443084056,170.1838074955806,185.47458669047444,185.88479849389984,195.71662581073744,116.42256724060537,205.80866020273552,140.2087228902593,179.70708475028118,197.32642195819338,193.56988290825095,174.80942063320947,189.4769914087392,189.13132581063533,198.7452576183152,120.0391614568443,208.98594209276555,143.160370509508,181.0021590207107,195.61447600277324,191.00582042081174,171.23224347547045,185.7335700924205,185.7318628741297,197.62267127988446,121.0750935442735,204.77559173365967,139.34880175901543,178.9802410773387,194.542547579049,192.9396858738346,171.883474242363,185.4793567608316,185.41673250616512,191.69853696465606,114.5472092742455,201.83059994611705,136.91150458878107,174.27796861037268,188.18272770754794,182.14931004899904,165.80630007208808,180.16706382789292,177.75785117734202,186.4234486079763,107.1988384970825,196.82852189444847,130.51481382405186,170.98731728006567,184.50955202078694,177.73253832040416,159.29006437881398,174.7096723577961,170.68732815285588,175.95025754080598,96.83701898215729,187.74044286542755,121.58744112608028,161.95765279808654,177.9913609341353,171.34270538551164,153.65169369649942,167.9653872603041],\"type\":\"scatter\"},{\"mode\":\"lines\",\"name\":\"forecasted_test\",\"x\":[\"2016-04-03\",\"2016-04-10\",\"2016-04-17\",\"2016-04-24\",\"2016-05-01\",\"2016-05-08\",\"2016-05-15\",\"2016-05-22\",\"2016-05-29\",\"2016-06-05\",\"2016-06-12\",\"2016-06-19\",\"2016-06-26\"],\"y\":[168.25759566276446,177.32586590176746,99.4026924450973,186.6039267717088,120.97246489747593,159.39175468143046,174.70785495231726,170.64093520318812,151.5634305614587,165.7499796783912,164.95807666285745,174.0332606947485,96.116986543845],\"type\":\"scatter\"}],                        {\"title\":{\"text\":\"Weekly forecast on train and test dataset of CX product group\"},\"xaxis\":{\"title\":{\"text\":\"timeline\"},\"type\":\"category\"},\"yaxis\":{\"title\":{\"text\":\"orderquantity\"}},\"template\":{\"data\":{\"histogram2dcontour\":[{\"type\":\"histogram2dcontour\",\"colorbar\":{\"outlinewidth\":0,\"ticks\":\"\"},\"colorscale\":[[0.0,\"#0d0887\"],[0.1111111111111111,\"#46039f\"],[0.2222222222222222,\"#7201a8\"],[0.3333333333333333,\"#9c179e\"],[0.4444444444444444,\"#bd3786\"],[0.5555555555555556,\"#d8576b\"],[0.6666666666666666,\"#ed7953\"],[0.7777777777777778,\"#fb9f3a\"],[0.8888888888888888,\"#fdca26\"],[1.0,\"#f0f921\"]]}],\"choropleth\":[{\"type\":\"choropleth\",\"colorbar\":{\"outlinewidth\":0,\"ticks\":\"\"}}],\"histogram2d\":[{\"type\":\"histogram2d\",\"colorbar\":{\"outlinewidth\":0,\"ticks\":\"\"},\"colorscale\":[[0.0,\"#0d0887\"],[0.1111111111111111,\"#46039f\"],[0.2222222222222222,\"#7201a8\"],[0.3333333333333333,\"#9c179e\"],[0.4444444444444444,\"#bd3786\"],[0.5555555555555556,\"#d8576b\"],[0.6666666666666666,\"#ed7953\"],[0.7777777777777778,\"#fb9f3a\"],[0.8888888888888888,\"#fdca26\"],[1.0,\"#f0f921\"]]}],\"heatmap\":[{\"type\":\"heatmap\",\"colorbar\":{\"outlinewidth\":0,\"ticks\":\"\"},\"colorscale\":[[0.0,\"#0d0887\"],[0.1111111111111111,\"#46039f\"],[0.2222222222222222,\"#7201a8\"],[0.3333333333333333,\"#9c179e\"],[0.4444444444444444,\"#bd3786\"],[0.5555555555555556,\"#d8576b\"],[0.6666666666666666,\"#ed7953\"],[0.7777777777777778,\"#fb9f3a\"],[0.8888888888888888,\"#fdca26\"],[1.0,\"#f0f921\"]]}],\"heatmapgl\":[{\"type\":\"heatmapgl\",\"colorbar\":{\"outlinewidth\":0,\"ticks\":\"\"},\"colorscale\":[[0.0,\"#0d0887\"],[0.1111111111111111,\"#46039f\"],[0.2222222222222222,\"#7201a8\"],[0.3333333333333333,\"#9c179e\"],[0.4444444444444444,\"#bd3786\"],[0.5555555555555556,\"#d8576b\"],[0.6666666666666666,\"#ed7953\"],[0.7777777777777778,\"#fb9f3a\"],[0.8888888888888888,\"#fdca26\"],[1.0,\"#f0f921\"]]}],\"contourcarpet\":[{\"type\":\"contourcarpet\",\"colorbar\":{\"outlinewidth\":0,\"ticks\":\"\"}}],\"contour\":[{\"type\":\"contour\",\"colorbar\":{\"outlinewidth\":0,\"ticks\":\"\"},\"colorscale\":[[0.0,\"#0d0887\"],[0.1111111111111111,\"#46039f\"],[0.2222222222222222,\"#7201a8\"],[0.3333333333333333,\"#9c179e\"],[0.4444444444444444,\"#bd3786\"],[0.5555555555555556,\"#d8576b\"],[0.6666666666666666,\"#ed7953\"],[0.7777777777777778,\"#fb9f3a\"],[0.8888888888888888,\"#fdca26\"],[1.0,\"#f0f921\"]]}],\"surface\":[{\"type\":\"surface\",\"colorbar\":{\"outlinewidth\":0,\"ticks\":\"\"},\"colorscale\":[[0.0,\"#0d0887\"],[0.1111111111111111,\"#46039f\"],[0.2222222222222222,\"#7201a8\"],[0.3333333333333333,\"#9c179e\"],[0.4444444444444444,\"#bd3786\"],[0.5555555555555556,\"#d8576b\"],[0.6666666666666666,\"#ed7953\"],[0.7777777777777778,\"#fb9f3a\"],[0.8888888888888888,\"#fdca26\"],[1.0,\"#f0f921\"]]}],\"mesh3d\":[{\"type\":\"mesh3d\",\"colorbar\":{\"outlinewidth\":0,\"ticks\":\"\"}}],\"scatter\":[{\"fillpattern\":{\"fillmode\":\"overlay\",\"size\":10,\"solidity\":0.2},\"type\":\"scatter\"}],\"parcoords\":[{\"type\":\"parcoords\",\"line\":{\"colorbar\":{\"outlinewidth\":0,\"ticks\":\"\"}}}],\"scatterpolargl\":[{\"type\":\"scatterpolargl\",\"marker\":{\"colorbar\":{\"outlinewidth\":0,\"ticks\":\"\"}}}],\"bar\":[{\"error_x\":{\"color\":\"#2a3f5f\"},\"error_y\":{\"color\":\"#2a3f5f\"},\"marker\":{\"line\":{\"color\":\"#E5ECF6\",\"width\":0.5},\"pattern\":{\"fillmode\":\"overlay\",\"size\":10,\"solidity\":0.2}},\"type\":\"bar\"}],\"scattergeo\":[{\"type\":\"scattergeo\",\"marker\":{\"colorbar\":{\"outlinewidth\":0,\"ticks\":\"\"}}}],\"scatterpolar\":[{\"type\":\"scatterpolar\",\"marker\":{\"colorbar\":{\"outlinewidth\":0,\"ticks\":\"\"}}}],\"histogram\":[{\"marker\":{\"pattern\":{\"fillmode\":\"overlay\",\"size\":10,\"solidity\":0.2}},\"type\":\"histogram\"}],\"scattergl\":[{\"type\":\"scattergl\",\"marker\":{\"colorbar\":{\"outlinewidth\":0,\"ticks\":\"\"}}}],\"scatter3d\":[{\"type\":\"scatter3d\",\"line\":{\"colorbar\":{\"outlinewidth\":0,\"ticks\":\"\"}},\"marker\":{\"colorbar\":{\"outlinewidth\":0,\"ticks\":\"\"}}}],\"scattermapbox\":[{\"type\":\"scattermapbox\",\"marker\":{\"colorbar\":{\"outlinewidth\":0,\"ticks\":\"\"}}}],\"scatterternary\":[{\"type\":\"scatterternary\",\"marker\":{\"colorbar\":{\"outlinewidth\":0,\"ticks\":\"\"}}}],\"scattercarpet\":[{\"type\":\"scattercarpet\",\"marker\":{\"colorbar\":{\"outlinewidth\":0,\"ticks\":\"\"}}}],\"carpet\":[{\"aaxis\":{\"endlinecolor\":\"#2a3f5f\",\"gridcolor\":\"white\",\"linecolor\":\"white\",\"minorgridcolor\":\"white\",\"startlinecolor\":\"#2a3f5f\"},\"baxis\":{\"endlinecolor\":\"#2a3f5f\",\"gridcolor\":\"white\",\"linecolor\":\"white\",\"minorgridcolor\":\"white\",\"startlinecolor\":\"#2a3f5f\"},\"type\":\"carpet\"}],\"table\":[{\"cells\":{\"fill\":{\"color\":\"#EBF0F8\"},\"line\":{\"color\":\"white\"}},\"header\":{\"fill\":{\"color\":\"#C8D4E3\"},\"line\":{\"color\":\"white\"}},\"type\":\"table\"}],\"barpolar\":[{\"marker\":{\"line\":{\"color\":\"#E5ECF6\",\"width\":0.5},\"pattern\":{\"fillmode\":\"overlay\",\"size\":10,\"solidity\":0.2}},\"type\":\"barpolar\"}],\"pie\":[{\"automargin\":true,\"type\":\"pie\"}]},\"layout\":{\"autotypenumbers\":\"strict\",\"colorway\":[\"#636efa\",\"#EF553B\",\"#00cc96\",\"#ab63fa\",\"#FFA15A\",\"#19d3f3\",\"#FF6692\",\"#B6E880\",\"#FF97FF\",\"#FECB52\"],\"font\":{\"color\":\"#2a3f5f\"},\"hovermode\":\"closest\",\"hoverlabel\":{\"align\":\"left\"},\"paper_bgcolor\":\"white\",\"plot_bgcolor\":\"#E5ECF6\",\"polar\":{\"bgcolor\":\"#E5ECF6\",\"angularaxis\":{\"gridcolor\":\"white\",\"linecolor\":\"white\",\"ticks\":\"\"},\"radialaxis\":{\"gridcolor\":\"white\",\"linecolor\":\"white\",\"ticks\":\"\"}},\"ternary\":{\"bgcolor\":\"#E5ECF6\",\"aaxis\":{\"gridcolor\":\"white\",\"linecolor\":\"white\",\"ticks\":\"\"},\"baxis\":{\"gridcolor\":\"white\",\"linecolor\":\"white\",\"ticks\":\"\"},\"caxis\":{\"gridcolor\":\"white\",\"linecolor\":\"white\",\"ticks\":\"\"}},\"coloraxis\":{\"colorbar\":{\"outlinewidth\":0,\"ticks\":\"\"}},\"colorscale\":{\"sequential\":[[0.0,\"#0d0887\"],[0.1111111111111111,\"#46039f\"],[0.2222222222222222,\"#7201a8\"],[0.3333333333333333,\"#9c179e\"],[0.4444444444444444,\"#bd3786\"],[0.5555555555555556,\"#d8576b\"],[0.6666666666666666,\"#ed7953\"],[0.7777777777777778,\"#fb9f3a\"],[0.8888888888888888,\"#fdca26\"],[1.0,\"#f0f921\"]],\"sequentialminus\":[[0.0,\"#0d0887\"],[0.1111111111111111,\"#46039f\"],[0.2222222222222222,\"#7201a8\"],[0.3333333333333333,\"#9c179e\"],[0.4444444444444444,\"#bd3786\"],[0.5555555555555556,\"#d8576b\"],[0.6666666666666666,\"#ed7953\"],[0.7777777777777778,\"#fb9f3a\"],[0.8888888888888888,\"#fdca26\"],[1.0,\"#f0f921\"]],\"diverging\":[[0,\"#8e0152\"],[0.1,\"#c51b7d\"],[0.2,\"#de77ae\"],[0.3,\"#f1b6da\"],[0.4,\"#fde0ef\"],[0.5,\"#f7f7f7\"],[0.6,\"#e6f5d0\"],[0.7,\"#b8e186\"],[0.8,\"#7fbc41\"],[0.9,\"#4d9221\"],[1,\"#276419\"]]},\"xaxis\":{\"gridcolor\":\"white\",\"linecolor\":\"white\",\"ticks\":\"\",\"title\":{\"standoff\":15},\"zerolinecolor\":\"white\",\"automargin\":true,\"zerolinewidth\":2},\"yaxis\":{\"gridcolor\":\"white\",\"linecolor\":\"white\",\"ticks\":\"\",\"title\":{\"standoff\":15},\"zerolinecolor\":\"white\",\"automargin\":true,\"zerolinewidth\":2},\"scene\":{\"xaxis\":{\"backgroundcolor\":\"#E5ECF6\",\"gridcolor\":\"white\",\"linecolor\":\"white\",\"showbackground\":true,\"ticks\":\"\",\"zerolinecolor\":\"white\",\"gridwidth\":2},\"yaxis\":{\"backgroundcolor\":\"#E5ECF6\",\"gridcolor\":\"white\",\"linecolor\":\"white\",\"showbackground\":true,\"ticks\":\"\",\"zerolinecolor\":\"white\",\"gridwidth\":2},\"zaxis\":{\"backgroundcolor\":\"#E5ECF6\",\"gridcolor\":\"white\",\"linecolor\":\"white\",\"showbackground\":true,\"ticks\":\"\",\"zerolinecolor\":\"white\",\"gridwidth\":2}},\"shapedefaults\":{\"line\":{\"color\":\"#2a3f5f\"}},\"annotationdefaults\":{\"arrowcolor\":\"#2a3f5f\",\"arrowhead\":0,\"arrowwidth\":1},\"geo\":{\"bgcolor\":\"white\",\"landcolor\":\"#E5ECF6\",\"subunitcolor\":\"white\",\"showland\":true,\"showlakes\":true,\"lakecolor\":\"white\"},\"title\":{\"x\":0.05},\"mapbox\":{\"style\":\"light\"}}}},                        {\"responsive\": true}                    ).then(function(){\n",
       "                            \n",
       "var gd = document.getElementById('ef74a655-e9ea-465a-85c6-bdba3ae21350');\n",
       "var x = new MutationObserver(function (mutations, observer) {{\n",
       "        var display = window.getComputedStyle(gd).display;\n",
       "        if (!display || display === 'none') {{\n",
       "            console.log([gd, 'removed!']);\n",
       "            Plotly.purge(gd);\n",
       "            observer.disconnect();\n",
       "        }}\n",
       "}});\n",
       "\n",
       "// Listen for the removal of the full notebook cells\n",
       "var notebookContainer = gd.closest('#notebook-container');\n",
       "if (notebookContainer) {{\n",
       "    x.observe(notebookContainer, {childList: true});\n",
       "}}\n",
       "\n",
       "// Listen for the clearing of the current output cell\n",
       "var outputEl = gd.closest('.output');\n",
       "if (outputEl) {{\n",
       "    x.observe(outputEl, {childList: true});\n",
       "}}\n",
       "\n",
       "                        })                };                });            </script>        </div>"
      ]
     },
     "metadata": {},
     "output_type": "display_data"
    }
   ],
   "source": [
    "fig = go.Figure(layout = go.Layout(xaxis_type = 'category', \n",
    "                                   xaxis = {'title': 'timeline'}, \n",
    "                                   yaxis = {'title': 'orderquantity'},\n",
    "                                   title = 'Weekly forecast on train and test dataset of CX product group'))\n",
    "\n",
    "fig.add_trace(\n",
    "    go.Scatter(\n",
    "        x = data.index.strftime('%Y-%m-%d'),\n",
    "        y = data.values.reshape(data.shape[0], ),\n",
    "        mode = 'lines',\n",
    "        name = 'y'\n",
    "    )\n",
    ")\n",
    "\n",
    "fig.add_trace(\n",
    "    go.Scatter(\n",
    "        x = htes.fittedvalues.index.strftime('%Y-%m-%d'),\n",
    "        y = htes.fittedvalues.values,\n",
    "        mode = 'lines',\n",
    "        name = 'fitted_train'\n",
    "    )\n",
    ")\n",
    "\n",
    "fig.add_trace(\n",
    "    go.Scatter(\n",
    "        x = htes.forecast(test.shape[0]).index.strftime('%Y-%m-%d'),\n",
    "        y = htes.forecast(test.shape[0]).values,\n",
    "        mode = 'lines',\n",
    "        name = 'forecasted_test'\n",
    "    )\n",
    ")\n",
    "\n",
    "fig.show()"
   ]
  },
  {
   "cell_type": "code",
   "execution_count": null,
   "id": "f26dafc3",
   "metadata": {},
   "outputs": [],
   "source": []
  }
 ],
 "metadata": {
  "kernelspec": {
   "display_name": "Python 3 (ipykernel)",
   "language": "python",
   "name": "python3"
  },
  "language_info": {
   "codemirror_mode": {
    "name": "ipython",
    "version": 3
   },
   "file_extension": ".py",
   "mimetype": "text/x-python",
   "name": "python",
   "nbconvert_exporter": "python",
   "pygments_lexer": "ipython3",
   "version": "3.9.13"
  }
 },
 "nbformat": 4,
 "nbformat_minor": 5
}
